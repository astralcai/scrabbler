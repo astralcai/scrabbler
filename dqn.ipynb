{
 "cells": [
  {
   "cell_type": "code",
   "execution_count": 2,
   "metadata": {},
   "outputs": [
    {
     "ename": "ImportError",
     "evalue": "This version of TensorFlow Probability requires TensorFlow version >= 2.11; Detected an installation of version 2.10.0. Please upgrade TensorFlow to proceed.",
     "output_type": "error",
     "traceback": [
      "\u001b[0;31m---------------------------------------------------------------------------\u001b[0m",
      "\u001b[0;31mImportError\u001b[0m                               Traceback (most recent call last)",
      "Cell \u001b[0;32mIn[2], line 15\u001b[0m\n\u001b[1;32m     11\u001b[0m \u001b[39m# import reverb\u001b[39;00m\n\u001b[1;32m     13\u001b[0m \u001b[39mimport\u001b[39;00m \u001b[39mtensorflow\u001b[39;00m \u001b[39mas\u001b[39;00m \u001b[39mtf\u001b[39;00m\n\u001b[0;32m---> 15\u001b[0m \u001b[39mfrom\u001b[39;00m \u001b[39mtf_agents\u001b[39;00m\u001b[39m.\u001b[39;00m\u001b[39magents\u001b[39;00m\u001b[39m.\u001b[39;00m\u001b[39mdqn\u001b[39;00m \u001b[39mimport\u001b[39;00m dqn_agent\n\u001b[1;32m     16\u001b[0m \u001b[39mfrom\u001b[39;00m \u001b[39mtf_agents\u001b[39;00m\u001b[39m.\u001b[39;00m\u001b[39mdrivers\u001b[39;00m \u001b[39mimport\u001b[39;00m py_driver\n\u001b[1;32m     17\u001b[0m \u001b[39mfrom\u001b[39;00m \u001b[39mtf_agents\u001b[39;00m\u001b[39m.\u001b[39;00m\u001b[39menvironments\u001b[39;00m \u001b[39mimport\u001b[39;00m suite_gym\n",
      "File \u001b[0;32m~/miniforge3/envs/cart_pole/lib/python3.9/site-packages/tf_agents/__init__.py:70\u001b[0m\n\u001b[1;32m     66\u001b[0m _ensure_tf_install()\n\u001b[1;32m     68\u001b[0m \u001b[39mimport\u001b[39;00m \u001b[39msys\u001b[39;00m \u001b[39mas\u001b[39;00m \u001b[39m_sys\u001b[39;00m\n\u001b[0;32m---> 70\u001b[0m \u001b[39mfrom\u001b[39;00m \u001b[39mtf_agents\u001b[39;00m \u001b[39mimport\u001b[39;00m agents\n\u001b[1;32m     71\u001b[0m \u001b[39mfrom\u001b[39;00m \u001b[39mtf_agents\u001b[39;00m \u001b[39mimport\u001b[39;00m bandits\n\u001b[1;32m     72\u001b[0m \u001b[39mfrom\u001b[39;00m \u001b[39mtf_agents\u001b[39;00m \u001b[39mimport\u001b[39;00m distributions\n",
      "File \u001b[0;32m~/miniforge3/envs/cart_pole/lib/python3.9/site-packages/tf_agents/agents/__init__.py:17\u001b[0m\n\u001b[1;32m      1\u001b[0m \u001b[39m# coding=utf-8\u001b[39;00m\n\u001b[1;32m      2\u001b[0m \u001b[39m# Copyright 2020 The TF-Agents Authors.\u001b[39;00m\n\u001b[1;32m      3\u001b[0m \u001b[39m#\u001b[39;00m\n\u001b[0;32m   (...)\u001b[0m\n\u001b[1;32m     13\u001b[0m \u001b[39m# See the License for the specific language governing permissions and\u001b[39;00m\n\u001b[1;32m     14\u001b[0m \u001b[39m# limitations under the License.\u001b[39;00m\n\u001b[1;32m     16\u001b[0m \u001b[39m\"\"\"Module importing all agents.\"\"\"\u001b[39;00m\n\u001b[0;32m---> 17\u001b[0m \u001b[39mfrom\u001b[39;00m \u001b[39mtf_agents\u001b[39;00m\u001b[39m.\u001b[39;00m\u001b[39magents\u001b[39;00m \u001b[39mimport\u001b[39;00m behavioral_cloning\n\u001b[1;32m     18\u001b[0m \u001b[39mfrom\u001b[39;00m \u001b[39mtf_agents\u001b[39;00m\u001b[39m.\u001b[39;00m\u001b[39magents\u001b[39;00m \u001b[39mimport\u001b[39;00m categorical_dqn\n\u001b[1;32m     19\u001b[0m \u001b[39mfrom\u001b[39;00m \u001b[39mtf_agents\u001b[39;00m\u001b[39m.\u001b[39;00m\u001b[39magents\u001b[39;00m \u001b[39mimport\u001b[39;00m cql\n",
      "File \u001b[0;32m~/miniforge3/envs/cart_pole/lib/python3.9/site-packages/tf_agents/agents/behavioral_cloning/__init__.py:17\u001b[0m\n\u001b[1;32m      1\u001b[0m \u001b[39m# coding=utf-8\u001b[39;00m\n\u001b[1;32m      2\u001b[0m \u001b[39m# Copyright 2020 The TF-Agents Authors.\u001b[39;00m\n\u001b[1;32m      3\u001b[0m \u001b[39m#\u001b[39;00m\n\u001b[0;32m   (...)\u001b[0m\n\u001b[1;32m     13\u001b[0m \u001b[39m# See the License for the specific language governing permissions and\u001b[39;00m\n\u001b[1;32m     14\u001b[0m \u001b[39m# limitations under the License.\u001b[39;00m\n\u001b[1;32m     16\u001b[0m \u001b[39m\"\"\"A Behavioral Cloning agent.\"\"\"\u001b[39;00m\n\u001b[0;32m---> 17\u001b[0m \u001b[39mfrom\u001b[39;00m \u001b[39mtf_agents\u001b[39;00m\u001b[39m.\u001b[39;00m\u001b[39magents\u001b[39;00m\u001b[39m.\u001b[39;00m\u001b[39mbehavioral_cloning\u001b[39;00m \u001b[39mimport\u001b[39;00m behavioral_cloning_agent\n",
      "File \u001b[0;32m~/miniforge3/envs/cart_pole/lib/python3.9/site-packages/tf_agents/agents/behavioral_cloning/behavioral_cloning_agent.py:37\u001b[0m\n\u001b[1;32m     35\u001b[0m \u001b[39mimport\u001b[39;00m \u001b[39mgin\u001b[39;00m\n\u001b[1;32m     36\u001b[0m \u001b[39mimport\u001b[39;00m \u001b[39mtensorflow\u001b[39;00m \u001b[39mas\u001b[39;00m \u001b[39mtf\u001b[39;00m\n\u001b[0;32m---> 37\u001b[0m \u001b[39mimport\u001b[39;00m \u001b[39mtensorflow_probability\u001b[39;00m \u001b[39mas\u001b[39;00m \u001b[39mtfp\u001b[39;00m\n\u001b[1;32m     38\u001b[0m \u001b[39mfrom\u001b[39;00m \u001b[39mtf_agents\u001b[39;00m\u001b[39m.\u001b[39;00m\u001b[39magents\u001b[39;00m \u001b[39mimport\u001b[39;00m data_converter\n\u001b[1;32m     39\u001b[0m \u001b[39mfrom\u001b[39;00m \u001b[39mtf_agents\u001b[39;00m\u001b[39m.\u001b[39;00m\u001b[39magents\u001b[39;00m \u001b[39mimport\u001b[39;00m tf_agent\n",
      "File \u001b[0;32m~/miniforge3/envs/cart_pole/lib/python3.9/site-packages/tensorflow_probability/__init__.py:20\u001b[0m\n\u001b[1;32m     15\u001b[0m \u001b[39m\"\"\"Tools for probabilistic reasoning in TensorFlow.\"\"\"\u001b[39;00m\n\u001b[1;32m     17\u001b[0m \u001b[39m# Contributors to the `python/` dir should not alter this file; instead update\u001b[39;00m\n\u001b[1;32m     18\u001b[0m \u001b[39m# `python/__init__.py` as necessary.\u001b[39;00m\n\u001b[0;32m---> 20\u001b[0m \u001b[39mfrom\u001b[39;00m \u001b[39mtensorflow_probability\u001b[39;00m \u001b[39mimport\u001b[39;00m substrates\n\u001b[1;32m     21\u001b[0m \u001b[39m# from tensorflow_probability.google import staging  # DisableOnExport\u001b[39;00m\n\u001b[1;32m     22\u001b[0m \u001b[39m# from tensorflow_probability.google import tfp_google  # DisableOnExport\u001b[39;00m\n\u001b[1;32m     23\u001b[0m \u001b[39mfrom\u001b[39;00m \u001b[39mtensorflow_probability\u001b[39;00m\u001b[39m.\u001b[39;00m\u001b[39mpython\u001b[39;00m \u001b[39mimport\u001b[39;00m \u001b[39m*\u001b[39m  \u001b[39m# pylint: disable=wildcard-import\u001b[39;00m\n",
      "File \u001b[0;32m~/miniforge3/envs/cart_pole/lib/python3.9/site-packages/tensorflow_probability/substrates/__init__.py:17\u001b[0m\n\u001b[1;32m      1\u001b[0m \u001b[39m# Copyright 2019 The TensorFlow Probability Authors.\u001b[39;00m\n\u001b[1;32m      2\u001b[0m \u001b[39m#\u001b[39;00m\n\u001b[1;32m      3\u001b[0m \u001b[39m# Licensed under the Apache License, Version 2.0 (the \"License\");\u001b[39;00m\n\u001b[0;32m   (...)\u001b[0m\n\u001b[1;32m     13\u001b[0m \u001b[39m# limitations under the License.\u001b[39;00m\n\u001b[1;32m     14\u001b[0m \u001b[39m# ============================================================================\u001b[39;00m\n\u001b[1;32m     15\u001b[0m \u001b[39m\"\"\"TensorFlow Probability alternative substrates.\"\"\"\u001b[39;00m\n\u001b[0;32m---> 17\u001b[0m \u001b[39mfrom\u001b[39;00m \u001b[39mtensorflow_probability\u001b[39;00m\u001b[39m.\u001b[39;00m\u001b[39mpython\u001b[39;00m\u001b[39m.\u001b[39;00m\u001b[39minternal\u001b[39;00m \u001b[39mimport\u001b[39;00m all_util\n\u001b[1;32m     18\u001b[0m \u001b[39mfrom\u001b[39;00m \u001b[39mtensorflow_probability\u001b[39;00m\u001b[39m.\u001b[39;00m\u001b[39mpython\u001b[39;00m\u001b[39m.\u001b[39;00m\u001b[39minternal\u001b[39;00m \u001b[39mimport\u001b[39;00m lazy_loader  \u001b[39m# pylint: disable=g-direct-tensorflow-import\u001b[39;00m\n\u001b[1;32m     21\u001b[0m jax \u001b[39m=\u001b[39m lazy_loader\u001b[39m.\u001b[39mLazyLoader(\n\u001b[1;32m     22\u001b[0m     \u001b[39m'\u001b[39m\u001b[39mjax\u001b[39m\u001b[39m'\u001b[39m, \u001b[39mglobals\u001b[39m(),\n\u001b[1;32m     23\u001b[0m     \u001b[39m'\u001b[39m\u001b[39mtensorflow_probability.substrates.jax\u001b[39m\u001b[39m'\u001b[39m)\n",
      "File \u001b[0;32m~/miniforge3/envs/cart_pole/lib/python3.9/site-packages/tensorflow_probability/python/__init__.py:138\u001b[0m\n\u001b[1;32m    135\u001b[0m \u001b[39mif\u001b[39;00m _tf_loaded():\n\u001b[1;32m    136\u001b[0m   \u001b[39m# Non-lazy load of packages that register with tensorflow or keras.\u001b[39;00m\n\u001b[1;32m    137\u001b[0m   \u001b[39mfor\u001b[39;00m pkg_name \u001b[39min\u001b[39;00m _maybe_nonlazy_load:\n\u001b[0;32m--> 138\u001b[0m     \u001b[39mdir\u001b[39;49m(\u001b[39mglobals\u001b[39;49m()[pkg_name])  \u001b[39m# Forces loading the package from its lazy loader.\u001b[39;00m\n\u001b[1;32m    141\u001b[0m all_util\u001b[39m.\u001b[39mremove_undocumented(\u001b[39m__name__\u001b[39m, _lazy_load \u001b[39m+\u001b[39m _maybe_nonlazy_load)\n",
      "File \u001b[0;32m~/miniforge3/envs/cart_pole/lib/python3.9/site-packages/tensorflow_probability/python/internal/lazy_loader.py:57\u001b[0m, in \u001b[0;36mLazyLoader.__dir__\u001b[0;34m(self)\u001b[0m\n\u001b[1;32m     56\u001b[0m \u001b[39mdef\u001b[39;00m \u001b[39m__dir__\u001b[39m(\u001b[39mself\u001b[39m):\n\u001b[0;32m---> 57\u001b[0m   module \u001b[39m=\u001b[39m \u001b[39mself\u001b[39;49m\u001b[39m.\u001b[39;49m_load()\n\u001b[1;32m     58\u001b[0m   \u001b[39mreturn\u001b[39;00m \u001b[39mdir\u001b[39m(module)\n",
      "File \u001b[0;32m~/miniforge3/envs/cart_pole/lib/python3.9/site-packages/tensorflow_probability/python/internal/lazy_loader.py:37\u001b[0m, in \u001b[0;36mLazyLoader._load\u001b[0;34m(self)\u001b[0m\n\u001b[1;32m     35\u001b[0m \u001b[39m\u001b[39m\u001b[39m\"\"\"Load the module and insert it into the parent's globals.\"\"\"\u001b[39;00m\n\u001b[1;32m     36\u001b[0m \u001b[39mif\u001b[39;00m callable(\u001b[39mself\u001b[39m\u001b[39m.\u001b[39m_on_first_access):\n\u001b[0;32m---> 37\u001b[0m   \u001b[39mself\u001b[39;49m\u001b[39m.\u001b[39;49m_on_first_access()\n\u001b[1;32m     38\u001b[0m   \u001b[39mself\u001b[39m\u001b[39m.\u001b[39m_on_first_access \u001b[39m=\u001b[39m \u001b[39mNone\u001b[39;00m\n\u001b[1;32m     39\u001b[0m \u001b[39m# Import the target module and insert it into the parent's namespace\u001b[39;00m\n",
      "File \u001b[0;32m~/miniforge3/envs/cart_pole/lib/python3.9/site-packages/tensorflow_probability/python/__init__.py:59\u001b[0m, in \u001b[0;36m_validate_tf_environment\u001b[0;34m(package)\u001b[0m\n\u001b[1;32m     55\u001b[0m \u001b[39m#   required_tensorflow_version = '1.15'  # Needed internally -- DisableOnExport\u001b[39;00m\n\u001b[1;32m     57\u001b[0m   \u001b[39mif\u001b[39;00m (distutils\u001b[39m.\u001b[39mversion\u001b[39m.\u001b[39mLooseVersion(tf\u001b[39m.\u001b[39m__version__) \u001b[39m<\u001b[39m\n\u001b[1;32m     58\u001b[0m       distutils\u001b[39m.\u001b[39mversion\u001b[39m.\u001b[39mLooseVersion(required_tensorflow_version)):\n\u001b[0;32m---> 59\u001b[0m     \u001b[39mraise\u001b[39;00m \u001b[39mImportError\u001b[39;00m(\n\u001b[1;32m     60\u001b[0m         \u001b[39m'\u001b[39m\u001b[39mThis version of TensorFlow Probability requires TensorFlow \u001b[39m\u001b[39m'\u001b[39m\n\u001b[1;32m     61\u001b[0m         \u001b[39m'\u001b[39m\u001b[39mversion >= \u001b[39m\u001b[39m{required}\u001b[39;00m\u001b[39m; Detected an installation of version \u001b[39m\u001b[39m{present}\u001b[39;00m\u001b[39m. \u001b[39m\u001b[39m'\u001b[39m\n\u001b[1;32m     62\u001b[0m         \u001b[39m'\u001b[39m\u001b[39mPlease upgrade TensorFlow to proceed.\u001b[39m\u001b[39m'\u001b[39m\u001b[39m.\u001b[39mformat(\n\u001b[1;32m     63\u001b[0m             required\u001b[39m=\u001b[39mrequired_tensorflow_version,\n\u001b[1;32m     64\u001b[0m             present\u001b[39m=\u001b[39mtf\u001b[39m.\u001b[39m__version__))\n\u001b[1;32m     66\u001b[0m   \u001b[39mif\u001b[39;00m (package \u001b[39m==\u001b[39m \u001b[39m'\u001b[39m\u001b[39mmcmc\u001b[39m\u001b[39m'\u001b[39m \u001b[39mand\u001b[39;00m\n\u001b[1;32m     67\u001b[0m       tf\u001b[39m.\u001b[39mconfig\u001b[39m.\u001b[39mexperimental\u001b[39m.\u001b[39mtensor_float_32_execution_enabled()):\n\u001b[1;32m     68\u001b[0m     \u001b[39m# Must import here, because symbols get pruned to __all__.\u001b[39;00m\n\u001b[1;32m     69\u001b[0m     \u001b[39mimport\u001b[39;00m \u001b[39mwarnings\u001b[39;00m\n",
      "\u001b[0;31mImportError\u001b[0m: This version of TensorFlow Probability requires TensorFlow version >= 2.11; Detected an installation of version 2.10.0. Please upgrade TensorFlow to proceed."
     ]
    }
   ],
   "source": [
    "from __future__ import absolute_import, division, print_function\n",
    "\n",
    "import base64\n",
    "import imageio\n",
    "import IPython\n",
    "import matplotlib\n",
    "import matplotlib.pyplot as plt\n",
    "import numpy as np\n",
    "import PIL.Image\n",
    "import pyvirtualdisplay\n",
    "# import reverb\n",
    "\n",
    "import tensorflow as tf\n",
    "\n",
    "from tf_agents.agents.dqn import dqn_agent\n",
    "from tf_agents.drivers import py_driver\n",
    "from tf_agents.environments import suite_gym\n",
    "from tf_agents.environments import tf_py_environment\n",
    "from tf_agents.eval import metric_utils\n",
    "from tf_agents.metrics import tf_metrics\n",
    "from tf_agents.networks import sequential\n",
    "from tf_agents.policies import py_tf_eager_policy\n",
    "from tf_agents.policies import random_tf_policy\n",
    "from tf_agents.replay_buffers import reverb_replay_buffer\n",
    "from tf_agents.replay_buffers import reverb_utils\n",
    "from tf_agents.trajectories import trajectory\n",
    "from tf_agents.specs import tensor_spec\n",
    "from tf_agents.utils import common\n",
    "     "
   ]
  },
  {
   "cell_type": "code",
   "execution_count": null,
   "metadata": {},
   "outputs": [],
   "source": []
  }
 ],
 "metadata": {
  "kernelspec": {
   "display_name": "cart_pole",
   "language": "python",
   "name": "python3"
  },
  "language_info": {
   "codemirror_mode": {
    "name": "ipython",
    "version": 3
   },
   "file_extension": ".py",
   "mimetype": "text/x-python",
   "name": "python",
   "nbconvert_exporter": "python",
   "pygments_lexer": "ipython3",
   "version": "3.9.0"
  },
  "orig_nbformat": 4
 },
 "nbformat": 4,
 "nbformat_minor": 2
}
